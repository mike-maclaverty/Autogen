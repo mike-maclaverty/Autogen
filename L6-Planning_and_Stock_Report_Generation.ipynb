{
 "cells": [
  {
   "cell_type": "markdown",
   "id": "0b9a3d83",
   "metadata": {},
   "source": [
    "# Lesson 6: Planning and Stock Report Generation"
   ]
  },
  {
   "cell_type": "markdown",
   "id": "8d5f1491",
   "metadata": {},
   "source": [
    "## Setup"
   ]
  },
  {
   "cell_type": "code",
   "execution_count": 1,
   "id": "ad72cb6c-a916-40f7-960c-501c6309037f",
   "metadata": {
    "height": 30
   },
   "outputs": [],
   "source": [
    "llm_config={\"model\": \"gpt-4-turbo\"}"
   ]
  },
  {
   "cell_type": "markdown",
   "id": "d09b03c3",
   "metadata": {},
   "source": [
    "## The task!"
   ]
  },
  {
   "cell_type": "code",
   "execution_count": 2,
   "id": "01c1772f-2583-4c7a-a8a0-dd2946eea022",
   "metadata": {
    "height": 47
   },
   "outputs": [],
   "source": [
    "task = \"Write a blogpost about the stock price performance of \"\\\n",
    "\"Nvidia in the past month. Today's date is 2024-04-23.\""
   ]
  },
  {
   "cell_type": "markdown",
   "id": "be3ca91b",
   "metadata": {},
   "source": [
    "## Build a group chat\n",
    "\n",
    "This group chat will include these agents:\n",
    "\n",
    "1. **User_proxy** or **Admin**: to allow the user to comment on the report and ask the writer to refine it.\n",
    "2. **Planner**: to determine relevant information needed to complete the task.\n",
    "3. **Engineer**: to write code using the defined plan by the planner.\n",
    "4. **Executor**: to execute the code written by the engineer.\n",
    "5. **Writer**: to write the report."
   ]
  },
  {
   "cell_type": "code",
   "execution_count": 3,
   "id": "bd7befab-9487-4c50-8eca-1e2e30dbf7d6",
   "metadata": {
    "height": 30
   },
   "outputs": [],
   "source": [
    "import autogen"
   ]
  },
  {
   "cell_type": "code",
   "execution_count": 4,
   "id": "3258cb72-cb74-4eab-a387-ee409baf4947",
   "metadata": {
    "height": 149
   },
   "outputs": [],
   "source": [
    "user_proxy = autogen.ConversableAgent(\n",
    "    name=\"Admin\",\n",
    "    system_message=\"Give the task, and send \"\n",
    "    \"instructions to writer to refine the blog post.\",\n",
    "    code_execution_config=False,\n",
    "    llm_config=llm_config,\n",
    "    human_input_mode=\"ALWAYS\",\n",
    ")"
   ]
  },
  {
   "cell_type": "code",
   "execution_count": 5,
   "id": "0832b856-f13d-4e16-b61f-69eb23e0ae71",
   "metadata": {
    "height": 285
   },
   "outputs": [],
   "source": [
    "planner = autogen.ConversableAgent(\n",
    "    name=\"Planner\",\n",
    "    system_message=\"Given a task, please determine \"\n",
    "    \"what information is needed to complete the task. \"\n",
    "    \"Please note that the information will all be retrieved using\"\n",
    "    \" Python code. Please only suggest information that can be \"\n",
    "    \"retrieved using Python code. \"\n",
    "    \"After each step is done by others, check the progress and \"\n",
    "    \"instruct the remaining steps. If a step fails, try to \"\n",
    "    \"workaround\",\n",
    "    description=\"Planner. Given a task, determine what \"\n",
    "    \"information is needed to complete the task. \"\n",
    "    \"After each step is done by others, check the progress and \"\n",
    "    \"instruct the remaining steps\",\n",
    "    llm_config=llm_config,\n",
    ")"
   ]
  },
  {
   "cell_type": "code",
   "execution_count": 6,
   "id": "2427f55d-fb7b-4f3c-85d4-dcd35547b397",
   "metadata": {
    "height": 115
   },
   "outputs": [],
   "source": [
    "engineer = autogen.AssistantAgent(\n",
    "    name=\"Engineer\",\n",
    "    llm_config=llm_config,\n",
    "    description=\"An engineer that writes code based on the plan \"\n",
    "    \"provided by the planner.\",\n",
    ")"
   ]
  },
  {
   "cell_type": "markdown",
   "id": "429ed9f1",
   "metadata": {},
   "source": [
    "**Note**: In this lesson, you'll use an alternative method of code execution by providing a dict config. However, you can always use the LocalCommandLineCodeExecutor if you prefer. For more details about code_execution_config, check this: https://microsoft.github.io/autogen/docs/reference/agentchat/conversable_agent/#__init__"
   ]
  },
  {
   "cell_type": "code",
   "execution_count": 7,
   "id": "040ac21f-b4bf-4bd6-ac58-fdb2c8f8de14",
   "metadata": {
    "height": 200
   },
   "outputs": [],
   "source": [
    "executor = autogen.ConversableAgent(\n",
    "    name=\"Executor\",\n",
    "    system_message=\"Execute the code written by the \"\n",
    "    \"engineer and report the result.\",\n",
    "    human_input_mode=\"NEVER\",\n",
    "    code_execution_config={\n",
    "        \"last_n_messages\": 3,\n",
    "        \"work_dir\": \"coding\",\n",
    "        \"use_docker\": False,\n",
    "    },\n",
    ")"
   ]
  },
  {
   "cell_type": "code",
   "execution_count": 8,
   "id": "d6367fb4-a81b-411c-a339-8dd3d1d41483",
   "metadata": {
    "height": 200
   },
   "outputs": [],
   "source": [
    "writer = autogen.ConversableAgent(\n",
    "    name=\"Writer\",\n",
    "    llm_config=llm_config,\n",
    "    system_message=\"Writer.\"\n",
    "    \"Please write blogs in markdown format (with relevant titles)\"\n",
    "    \" and put the content in pseudo ```md``` code block. \"\n",
    "    \"You take feedback from the admin and refine your blog.\",\n",
    "    description=\"Writer.\"\n",
    "    \"Write blogs based on the code execution results and take \"\n",
    "    \"feedback from the admin to refine the blog.\"\n",
    ")"
   ]
  },
  {
   "cell_type": "markdown",
   "id": "a2ea86b5",
   "metadata": {},
   "source": [
    "## Define the group chat"
   ]
  },
  {
   "cell_type": "code",
   "execution_count": 9,
   "id": "cbf3c4b7-d4b8-4f97-8a25-e23107904ad5",
   "metadata": {
    "height": 98
   },
   "outputs": [],
   "source": [
    "groupchat = autogen.GroupChat(\n",
    "    agents=[user_proxy, engineer, writer, executor, planner],\n",
    "    messages=[],\n",
    "    max_round=10,\n",
    ")"
   ]
  },
  {
   "cell_type": "code",
   "execution_count": 10,
   "id": "bfcabc20-9316-45b7-852d-42e14550a956",
   "metadata": {
    "height": 81
   },
   "outputs": [],
   "source": [
    "manager = autogen.GroupChatManager(\n",
    "    groupchat=groupchat, llm_config=llm_config\n",
    ")\n"
   ]
  },
  {
   "cell_type": "markdown",
   "id": "b51eaffa",
   "metadata": {},
   "source": [
    "## Start the group chat!"
   ]
  },
  {
   "cell_type": "markdown",
   "id": "5dd69615",
   "metadata": {},
   "source": [
    "<p style=\"background-color:#ECECEC; padding:15px; \"> <b>Note:</b> In this lesson, you will use GPT 4 for better results. Please note that the lesson has a quota limit. If you want to explore the code in this lesson further, we recommend trying it locally with your own API key."
   ]
  },
  {
   "cell_type": "code",
   "execution_count": 11,
   "id": "a9899e8f-2971-487c-9d0e-932c36b3b75a",
   "metadata": {
    "height": 81
   },
   "outputs": [
    {
     "name": "stdout",
     "output_type": "stream",
     "text": [
      "\u001b[33mAdmin\u001b[0m (to chat_manager):\n",
      "\n",
      "Write a blogpost about the stock price performance of Nvidia in the past month. Today's date is 2024-04-23.\n",
      "\n",
      "--------------------------------------------------------------------------------\n",
      "\u001b[31m\n",
      ">>>>>>>> USING AUTO REPLY...\u001b[0m\n",
      "\u001b[33mPlanner\u001b[0m (to chat_manager):\n",
      "\n",
      "To complete the task of writing a blog post about the stock price performance of Nvidia for the past month, the following information will be crucial:\n",
      "\n",
      "1. **Historical Stock Prices for Nvidia** - You'll need data from 2024-03-23 to 2024-04-23. This should include opening and closing prices, highs, lows, and volume of stocks traded each day.\n",
      "   \n",
      "2. **Any Relevant News or Events** - Information on any events or news within the past month that could have influenced Nvidia's stock prices. This could include product launches, fiscal announcements, major changes in executive leadership, partnerships, etc.\n",
      "\n",
      "3. **Comparative Performance** - It might be interesting to compare Nvidia's performance with key competitors and the overall market to give readers a broader perspective on how Nvidia is performing relative to others.\n",
      "\n",
      "### Gathering Information Through Python:\n",
      "- For retrieving historical stock price data, you can use libraries such as `pandas-datareader`, `yfinance` (Yahoo Finance), or `alpha_vantage`.\n",
      "- To scrape news related to Nvidia, you could utilize APIs like the `newsapi` or perform web scraping if the API does not cover needed information.\n",
      "- To compare Nvidia’s stock performance against its competitors or market indices, you would fetch similar stock data as done for Nvidia.\n",
      "\n",
      "### Steps:\n",
      "\n",
      "1. **Fetch Historical Stock Price Data**:\n",
      "   Use `pandas-datareader` or `yfinance` to download Nvidia’s daily stock data for the specified date range.\n",
      "   \n",
      "2. **Gather News and Relevant Events**:\n",
      "   Implement a news retrieval using either direct API calls to a news service or implement a web scraping approach.\n",
      "   \n",
      "3. **Analyze the Performance and Prepare Comparative Analysis**:\n",
      "   Use Python libraries like `matplotlib` or `seaborean` for creating visualizations comparing Nvidia's stock performance with relevant indices or competitors.\n",
      "  \n",
      "4. **Draft the Blog Post**:\n",
      "   Summarize the findings, embed charts, and write detailed analysis based on the gathered data.\n",
      "\n",
      "### Execution:\n",
      "\n",
      "- Start by retrieving the historical stock data for Nvidia from 2024-03-23 to 2024-04-23.\n",
      "- Let me know once you have the data, and we will move on to the next step.\n",
      "\n",
      "--------------------------------------------------------------------------------\n",
      "\u001b[33mEngineer\u001b[0m (to chat_manager):\n",
      "\n",
      "Let's begin by fetching the historical stock price data for Nvidia for the past month. We'll use `yfinance`, a popular Python library for downloading financial market data. You need to execute the following code to download and view the stock price data for Nvidia.\n",
      "\n",
      "```python\n",
      "# filename: fetch_nvidia_stock_data.py\n",
      "import yfinance as yf\n",
      "\n",
      "# Define the ticker symbol for Nvidia\n",
      "ticker_symbol = \"NVDA\"\n",
      "\n",
      "# Fetch historical data for Nvidia from 2024-03-23 to 2024-04-23\n",
      "nvidia_data = yf.download(ticker_symbol, start=\"2024-03-23\", end=\"2024-04-24\")\n",
      "\n",
      "# Print the data\n",
      "print(nvidia_data)\n",
      "```\n",
      "\n",
      "1. Save the above script into a file named `fetch_nvidia_stock_data.py`.\n",
      "2. Run the script using a Python environment where `yfinance` is installed (`pip install yfinance` if not installed).\n",
      "3. Let me know the output, and we can proceed with the next steps!\n",
      "\n",
      "--------------------------------------------------------------------------------\n",
      "\u001b[31m\n",
      ">>>>>>>> EXECUTING CODE BLOCK 0 (inferred language is python)...\u001b[0m\n",
      "\u001b[33mExecutor\u001b[0m (to chat_manager):\n",
      "\n",
      "exitcode: 0 (execution succeeded)\n",
      "Code output: \n",
      "                 Open       High        Low      Close  Adj Close     Volume\n",
      "Date                                                                        \n",
      "2024-03-25  93.941002  96.765999  93.510002  95.001999  94.994194  552136000\n",
      "2024-03-26  95.850998  96.375000  92.501999  92.560997  92.553398  513648000\n",
      "2024-03-27  93.112000  93.239998  89.123001  90.250000  90.242584  586067000\n",
      "2024-03-28  90.000000  91.300003  89.193001  90.356003  90.348579  435212000\n",
      "2024-04-01  90.299004  92.224998  89.204002  90.362999  90.355576  452441000\n",
      "2024-04-02  88.447998  90.094002  87.620003  89.452003  89.444656  433064000\n",
      "2024-04-03  88.484001  90.374001  88.400002  88.963997  88.956688  370067000\n",
      "2024-04-04  90.405998  90.634003  85.879997  85.904999  85.897942  434965000\n",
      "2024-04-05  86.865997  88.481003  85.926003  88.008003  88.000778  399678000\n",
      "2024-04-08  88.699997  88.830002  86.732002  87.133003  87.125847  283220000\n",
      "2024-04-09  87.442001  87.635002  83.022003  85.353996  85.346985  503547000\n",
      "2024-04-10  83.926003  87.400002  83.709000  87.039001  87.031853  431929000\n",
      "2024-04-11  87.419998  90.738998  86.926003  90.615997  90.608551  431637000\n",
      "2024-04-12  89.698997  90.175003  87.529999  88.185997  88.178757  426805000\n",
      "2024-04-15  89.098000  90.612999  85.929001  86.000999  85.993935  443077000\n",
      "2024-04-16  86.432999  88.117996  86.064003  87.415001  87.407822  370453000\n",
      "2024-04-17  88.339996  88.775002  83.949997  84.035004  84.028099  495400000\n",
      "2024-04-18  84.970001  86.190002  82.402000  84.670998  84.664040  447260000\n",
      "2024-04-19  83.150002  84.323997  75.606003  76.199997  76.193741  875198000\n",
      "2024-04-22  78.103996  80.072998  76.400002  79.517998  79.511467  596341000\n",
      "2024-04-23  80.768997  82.768997  80.264000  82.422997  82.416229  438559000\n",
      "\n",
      "\n",
      "--------------------------------------------------------------------------------\n",
      "\u001b[31m\n",
      ">>>>>>>> USING AUTO REPLY...\u001b[0m\n",
      "\u001b[33mPlanner\u001b[0m (to chat_manager):\n",
      "\n",
      "Great! The historical stock data for Nvidia for the past month has been successfully retrieved and displays significant fluctuations in stock prices with notable high trading volumes on certain days. Next, we will gather relevant news or events during this timeframe that might have influenced Nvidia's stock prices.\n",
      "\n",
      "### Next Step: Gathering News and Relevant Events\n",
      "To accomplish this, you can use `newsapi`, which provides a simplified way to access news articles. First, ensure you have an API key from NewsAPI.org. Afterwards, you can use the following Python code to fetch news related to Nvidia.\n",
      "\n",
      "```python\n",
      "# filename: fetch_nvidia_news.py\n",
      "import requests\n",
      "\n",
      "# API endpoint and your NewsAPI key\n",
      "api_key = 'your_newsapi_key'\n",
      "url = f\"https://newsapi.org/v2/everything?q=Nvidia&from=2024-03-23&to=2024-04-23&sortBy=publishedAt&apiKey={api_key}\"\n",
      "\n",
      "# Send the request to NewsAPI\n",
      "response = requests.get(url)\n",
      "data = response.json()\n",
      "\n",
      "# Print retrieved articles\n",
      "for article in data['articles']:\n",
      "    print(article['publishedAt'], article['title'], article['url'])\n",
      "\n",
      "```\n",
      "1. Replace `your_newsapi_key` with your actual NewsAPI key.\n",
      "2. Save the above script to a file named `fetch_nvidia_news.py`.\n",
      "3. Execute the script using Python where the `requests` package is installed (install using `pip install requests` if not already installed).\n",
      "4. Share the output with me so we can analyze how news events correlate with the observed stock price changes.\n",
      "\n",
      "Please proceed with this step and let me know once complete.\n",
      "\n",
      "--------------------------------------------------------------------------------\n",
      "\u001b[33mEngineer\u001b[0m (to chat_manager):\n",
      "\n",
      "TERMINATE\n",
      "\n",
      "--------------------------------------------------------------------------------\n"
     ]
    }
   ],
   "source": [
    "groupchat_result = user_proxy.initiate_chat(\n",
    "    manager,\n",
    "    message=task,\n",
    ")"
   ]
  },
  {
   "cell_type": "markdown",
   "id": "ba5d14b6",
   "metadata": {},
   "source": [
    "## Add a speaker selection policy"
   ]
  },
  {
   "cell_type": "code",
   "execution_count": 12,
   "id": "c17e5a76-3c40-4e2a-b8f1-378f901f5b74",
   "metadata": {
    "height": 965
   },
   "outputs": [],
   "source": [
    "user_proxy = autogen.ConversableAgent(\n",
    "    name=\"Admin\",\n",
    "    system_message=\"Give the task, and send \"\n",
    "    \"instructions to writer to refine the blog post.\",\n",
    "    code_execution_config=False,\n",
    "    llm_config=llm_config,\n",
    "    human_input_mode=\"ALWAYS\",\n",
    ")\n",
    "\n",
    "planner = autogen.ConversableAgent(\n",
    "    name=\"Planner\",\n",
    "    system_message=\"Given a task, please determine \"\n",
    "    \"what information is needed to complete the task. \"\n",
    "    \"Please note that the information will all be retrieved using\"\n",
    "    \" Python code. Please only suggest information that can be \"\n",
    "    \"retrieved using Python code. \"\n",
    "    \"After each step is done by others, check the progress and \"\n",
    "    \"instruct the remaining steps. If a step fails, try to \"\n",
    "    \"workaround\",\n",
    "    description=\"Given a task, determine what \"\n",
    "    \"information is needed to complete the task. \"\n",
    "    \"After each step is done by others, check the progress and \"\n",
    "    \"instruct the remaining steps\",\n",
    "    llm_config=llm_config,\n",
    ")\n",
    "\n",
    "engineer = autogen.AssistantAgent(\n",
    "    name=\"Engineer\",\n",
    "    llm_config=llm_config,\n",
    "    description=\"Write code based on the plan \"\n",
    "    \"provided by the planner.\",\n",
    ")\n",
    "\n",
    "writer = autogen.ConversableAgent(\n",
    "    name=\"Writer\",\n",
    "    llm_config=llm_config,\n",
    "    system_message=\"Writer. \"\n",
    "    \"Please write blogs in markdown format (with relevant titles)\"\n",
    "    \" and put the content in pseudo ```md``` code block. \"\n",
    "    \"You take feedback from the admin and refine your blog.\",\n",
    "    description=\"After all the info is available, \"\n",
    "    \"write blogs based on the code execution results and take \"\n",
    "    \"feedback from the admin to refine the blog. \",\n",
    ")\n",
    "\n",
    "executor = autogen.ConversableAgent(\n",
    "    name=\"Executor\",\n",
    "    description=\"Execute the code written by the \"\n",
    "    \"engineer and report the result.\",\n",
    "    human_input_mode=\"NEVER\",\n",
    "    code_execution_config={\n",
    "        \"last_n_messages\": 3,\n",
    "        \"work_dir\": \"coding\",\n",
    "        \"use_docker\": False,\n",
    "    },\n",
    ")"
   ]
  },
  {
   "cell_type": "code",
   "execution_count": 13,
   "id": "d1ea0a1b-78f9-4be3-9479-228d6e679268",
   "metadata": {
    "height": 234
   },
   "outputs": [],
   "source": [
    "groupchat = autogen.GroupChat(\n",
    "    agents=[user_proxy, engineer, writer, executor, planner],\n",
    "    messages=[],\n",
    "    max_round=10,\n",
    "    allowed_or_disallowed_speaker_transitions={\n",
    "        user_proxy: [engineer, writer, executor, planner],\n",
    "        engineer: [user_proxy, executor],\n",
    "        writer: [user_proxy, planner],\n",
    "        executor: [user_proxy, engineer, planner],\n",
    "        planner: [user_proxy, engineer, writer],\n",
    "    },\n",
    "    speaker_transitions_type=\"allowed\",\n",
    ")"
   ]
  },
  {
   "cell_type": "code",
   "execution_count": 14,
   "id": "a62255bb-644f-4af6-a640-08297e55de45",
   "metadata": {
    "height": 149
   },
   "outputs": [
    {
     "name": "stdout",
     "output_type": "stream",
     "text": [
      "\u001b[33mAdmin\u001b[0m (to chat_manager):\n",
      "\n",
      "Write a blogpost about the stock price performance of Nvidia in the past month. Today's date is 2024-04-23.\n",
      "\n",
      "--------------------------------------------------------------------------------\n",
      "\u001b[31m\n",
      ">>>>>>>> USING AUTO REPLY...\u001b[0m\n",
      "\u001b[33mPlanner\u001b[0m (to chat_manager):\n",
      "\n",
      "To complete the task of writing a blog post about the stock price performance of Nvidia for the past month, the following information will be crucial:\n",
      "\n",
      "1. **Historical Stock Prices for Nvidia** - You'll need data from 2024-03-23 to 2024-04-23. This should include opening and closing prices, highs, lows, and volume of stocks traded each day.\n",
      "   \n",
      "2. **Any Relevant News or Events** - Information on any events or news within the past month that could have influenced Nvidia's stock prices. This could include product launches, fiscal announcements, major changes in executive leadership, partnerships, etc.\n",
      "\n",
      "3. **Comparative Performance** - It might be interesting to compare Nvidia's performance with key competitors and the overall market to give readers a broader perspective on how Nvidia is performing relative to others.\n",
      "\n",
      "### Gathering Information Through Python:\n",
      "- For retrieving historical stock price data, you can use libraries such as `pandas-datareader`, `yfinance` (Yahoo Finance), or `alpha_vantage`.\n",
      "- To scrape news related to Nvidia, you could utilize APIs like the `newsapi` or perform web scraping if the API does not cover needed information.\n",
      "- To compare Nvidia’s stock performance against its competitors or market indices, you would fetch similar stock data as done for Nvidia.\n",
      "\n",
      "### Steps:\n",
      "\n",
      "1. **Fetch Historical Stock Price Data**:\n",
      "   Use `pandas-datareader` or `yfinance` to download Nvidia’s daily stock data for the specified date range.\n",
      "   \n",
      "2. **Gather News and Relevant Events**:\n",
      "   Implement a news retrieval using either direct API calls to a news service or implement a web scraping approach.\n",
      "   \n",
      "3. **Analyze the Performance and Prepare Comparative Analysis**:\n",
      "   Use Python libraries like `matplotlib` or `seaborean` for creating visualizations comparing Nvidia's stock performance with relevant indices or competitors.\n",
      "  \n",
      "4. **Draft the Blog Post**:\n",
      "   Summarize the findings, embed charts, and write detailed analysis based on the gathered data.\n",
      "\n",
      "### Execution:\n",
      "\n",
      "- Start by retrieving the historical stock data for Nvidia from 2024-03-23 to 2024-04-23.\n",
      "- Let me know once you have the data, and we will move on to the next step.\n",
      "\n",
      "--------------------------------------------------------------------------------\n",
      "\u001b[33mEngineer\u001b[0m (to chat_manager):\n",
      "\n",
      "Let's begin by fetching the historical stock price data for Nvidia for the past month. We'll use `yfinance`, a popular Python library for downloading financial market data. You need to execute the following code to download and view the stock price data for Nvidia.\n",
      "\n",
      "```python\n",
      "# filename: fetch_nvidia_stock_data.py\n",
      "import yfinance as yf\n",
      "\n",
      "# Define the ticker symbol for Nvidia\n",
      "ticker_symbol = \"NVDA\"\n",
      "\n",
      "# Fetch historical data for Nvidia from 2024-03-23 to 2024-04-23\n",
      "nvidia_data = yf.download(ticker_symbol, start=\"2024-03-23\", end=\"2024-04-24\")\n",
      "\n",
      "# Print the data\n",
      "print(nvidia_data)\n",
      "```\n",
      "\n",
      "1. Save the above script into a file named `fetch_nvidia_stock_data.py`.\n",
      "2. Run the script using a Python environment where `yfinance` is installed (`pip install yfinance` if not installed).\n",
      "3. Let me know the output, and we can proceed with the next steps!\n",
      "\n",
      "--------------------------------------------------------------------------------\n",
      "\u001b[31m\n",
      ">>>>>>>> EXECUTING CODE BLOCK 0 (inferred language is python)...\u001b[0m\n",
      "\u001b[33mExecutor\u001b[0m (to chat_manager):\n",
      "\n",
      "exitcode: 0 (execution succeeded)\n",
      "Code output: \n",
      "                 Open       High        Low      Close  Adj Close     Volume\n",
      "Date                                                                        \n",
      "2024-03-25  93.941002  96.765999  93.510002  95.001999  94.994194  552136000\n",
      "2024-03-26  95.850998  96.375000  92.501999  92.560997  92.553398  513648000\n",
      "2024-03-27  93.112000  93.239998  89.123001  90.250000  90.242584  586067000\n",
      "2024-03-28  90.000000  91.300003  89.193001  90.356003  90.348579  435212000\n",
      "2024-04-01  90.299004  92.224998  89.204002  90.362999  90.355576  452441000\n",
      "2024-04-02  88.447998  90.094002  87.620003  89.452003  89.444656  433064000\n",
      "2024-04-03  88.484001  90.374001  88.400002  88.963997  88.956688  370067000\n",
      "2024-04-04  90.405998  90.634003  85.879997  85.904999  85.897942  434965000\n",
      "2024-04-05  86.865997  88.481003  85.926003  88.008003  88.000778  399678000\n",
      "2024-04-08  88.699997  88.830002  86.732002  87.133003  87.125847  283220000\n",
      "2024-04-09  87.442001  87.635002  83.022003  85.353996  85.346985  503547000\n",
      "2024-04-10  83.926003  87.400002  83.709000  87.039001  87.031853  431929000\n",
      "2024-04-11  87.419998  90.738998  86.926003  90.615997  90.608551  431637000\n",
      "2024-04-12  89.698997  90.175003  87.529999  88.185997  88.178757  426805000\n",
      "2024-04-15  89.098000  90.612999  85.929001  86.000999  85.993935  443077000\n",
      "2024-04-16  86.432999  88.117996  86.064003  87.415001  87.407822  370453000\n",
      "2024-04-17  88.339996  88.775002  83.949997  84.035004  84.028099  495400000\n",
      "2024-04-18  84.970001  86.190002  82.402000  84.670998  84.664040  447260000\n",
      "2024-04-19  83.150002  84.323997  75.606003  76.199997  76.193741  875198000\n",
      "2024-04-22  78.103996  80.072998  76.400002  79.517998  79.511467  596341000\n",
      "2024-04-23  80.768997  82.768997  80.264000  82.422997  82.416229  438559000\n",
      "\n",
      "\n",
      "--------------------------------------------------------------------------------\n",
      "\u001b[31m\n",
      ">>>>>>>> USING AUTO REPLY...\u001b[0m\n",
      "\u001b[33mPlanner\u001b[0m (to chat_manager):\n",
      "\n",
      "Great! The historical stock data for Nvidia for the past month has been successfully retrieved and displays significant fluctuations in stock prices with notable high trading volumes on certain days. Next, we will gather relevant news or events during this timeframe that might have influenced Nvidia's stock prices.\n",
      "\n",
      "### Next Step: Gathering News and Relevant Events\n",
      "To accomplish this, you can use `newsapi`, which provides a simplified way to access news articles. First, ensure you have an API key from NewsAPI.org. Afterwards, you can use the following Python code to fetch news related to Nvidia.\n",
      "\n",
      "```python\n",
      "# filename: fetch_nvidia_news.py\n",
      "import requests\n",
      "\n",
      "# API endpoint and your NewsAPI key\n",
      "api_key = 'your_newsapi_key'\n",
      "url = f\"https://newsapi.org/v2/everything?q=Nvidia&from=2024-03-23&to=2024-04-23&sortBy=publishedAt&apiKey={api_key}\"\n",
      "\n",
      "# Send the request to NewsAPI\n",
      "response = requests.get(url)\n",
      "data = response.json()\n",
      "\n",
      "# Print retrieved articles\n",
      "for article in data['articles']:\n",
      "    print(article['publishedAt'], article['title'], article['url'])\n",
      "\n",
      "```\n",
      "1. Replace `your_newsapi_key` with your actual NewsAPI key.\n",
      "2. Save the above script to a file named `fetch_nvidia_news.py`.\n",
      "3. Execute the script using Python where the `requests` package is installed (install using `pip install requests` if not already installed).\n",
      "4. Share the output with me so we can analyze how news events correlate with the observed stock price changes.\n",
      "\n",
      "Please proceed with this step and let me know once complete.\n",
      "\n",
      "--------------------------------------------------------------------------------\n",
      "\u001b[33mEngineer\u001b[0m (to chat_manager):\n",
      "\n",
      "TERMINATE\n",
      "\n",
      "--------------------------------------------------------------------------------\n"
     ]
    }
   ],
   "source": [
    "manager = autogen.GroupChatManager(\n",
    "    groupchat=groupchat, llm_config=llm_config\n",
    ")\n",
    "\n",
    "groupchat_result = user_proxy.initiate_chat(\n",
    "    manager,\n",
    "    message=task,\n",
    ")"
   ]
  },
  {
   "cell_type": "markdown",
   "id": "e738fd8b",
   "metadata": {},
   "source": [
    "**Note**: You might experience slightly different interactions between the agents. The engineer agent may write incorrect code, which the executor agent will report and send back for correction. This process could go through multiple rounds."
   ]
  }
 ],
 "metadata": {
  "kernelspec": {
   "display_name": "Python 3 (ipykernel)",
   "language": "python",
   "name": "python3"
  },
  "language_info": {
   "codemirror_mode": {
    "name": "ipython",
    "version": 3
   },
   "file_extension": ".py",
   "mimetype": "text/x-python",
   "name": "python",
   "nbconvert_exporter": "python",
   "pygments_lexer": "ipython3",
   "version": "3.11.9"
  }
 },
 "nbformat": 4,
 "nbformat_minor": 5
}
