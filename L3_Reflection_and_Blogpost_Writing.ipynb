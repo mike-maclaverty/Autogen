{
 "cells": [
  {
   "cell_type": "markdown",
   "id": "fc3024e2",
   "metadata": {},
   "source": [
    "# Lesson 3: Reflection and Blogpost Writing"
   ]
  },
  {
   "cell_type": "markdown",
   "id": "3b0cc42f",
   "metadata": {},
   "source": [
    "## Setup"
   ]
  },
  {
   "cell_type": "code",
   "execution_count": 1,
   "id": "96d39be0-eaf3-456d-8613-ba21099ed36b",
   "metadata": {
    "height": 30
   },
   "outputs": [],
   "source": [
    "llm_config = {\"model\": \"gpt-3.5-turbo\"}"
   ]
  },
  {
   "cell_type": "markdown",
   "id": "0969e6bb",
   "metadata": {},
   "source": [
    "## The task!"
   ]
  },
  {
   "cell_type": "code",
   "execution_count": 2,
   "id": "e8074032-3690-4de9-ad08-ea8323cb441b",
   "metadata": {
    "height": 115
   },
   "outputs": [],
   "source": [
    "task = '''\n",
    "        Write a concise but engaging blogpost about\n",
    "       DeepLearning.AI. Make sure the blogpost is\n",
    "       within 100 words.\n",
    "       '''\n"
   ]
  },
  {
   "cell_type": "markdown",
   "id": "1987f023",
   "metadata": {},
   "source": [
    "## Create a writer agent"
   ]
  },
  {
   "cell_type": "code",
   "execution_count": 3,
   "id": "fe0f0a47-a9fe-43a0-b7b1-79922e4c4ac8",
   "metadata": {
    "height": 200
   },
   "outputs": [],
   "source": [
    "import autogen\n",
    "\n",
    "writer = autogen.AssistantAgent(\n",
    "    name=\"Writer\",\n",
    "    system_message=\"You are a writer. You write engaging and concise \" \n",
    "        \"blogpost (with title) on given topics. You must polish your \"\n",
    "        \"writing based on the feedback you receive and give a refined \"\n",
    "        \"version. Only return your final work without additional comments.\",\n",
    "    llm_config=llm_config,\n",
    ")"
   ]
  },
  {
   "cell_type": "code",
   "execution_count": 4,
   "id": "7c7b4d8d-40f7-4a05-8958-25d20054de3a",
   "metadata": {
    "height": 47
   },
   "outputs": [],
   "source": [
    "reply = writer.generate_reply(messages=[{\"content\": task, \"role\": \"user\"}])"
   ]
  },
  {
   "cell_type": "code",
   "execution_count": 5,
   "id": "c501c97d-e338-4f36-a384-6ec45983cf77",
   "metadata": {
    "height": 30
   },
   "outputs": [
    {
     "name": "stdout",
     "output_type": "stream",
     "text": [
      "Title: Unraveling the World of Deep Learning with DeepLearning.AI\n",
      "\n",
      "Dive into the realm of artificial intelligence with DeepLearning.AI, a platform revolutionizing education in deep learning. Founded by Andrew Ng, a renowned figure in AI, DeepLearning.AI offers top-notch courses to upskill both beginners and experts in the field. From neural networks to machine learning, this platform covers it all. With interactive assignments and practical insights, learners gain hands-on experience essential for success in the AI industry. Whether you're a tech enthusiast or a professional looking to advance your skills, DeepLearning.AI equips you with the knowledge to thrive in the exciting world of deep learning.\n"
     ]
    }
   ],
   "source": [
    "print(reply)"
   ]
  },
  {
   "cell_type": "markdown",
   "id": "49658114",
   "metadata": {},
   "source": [
    "## Adding reflection \n",
    "\n",
    "Create a critic agent to reflect on the work of the writer agent."
   ]
  },
  {
   "cell_type": "code",
   "execution_count": 6,
   "id": "c7fcd1c7-51ec-4915-8e97-bac03565c4c7",
   "metadata": {
    "height": 166
   },
   "outputs": [],
   "source": [
    "critic = autogen.AssistantAgent(\n",
    "    name=\"Critic\",\n",
    "    is_termination_msg=lambda x: x.get(\"content\", \"\").find(\"TERMINATE\") >= 0,\n",
    "    llm_config=llm_config,\n",
    "    system_message=\"You are a critic. You review the work of \"\n",
    "                \"the writer and provide constructive \"\n",
    "                \"feedback to help improve the quality of the content.\",\n",
    ")"
   ]
  },
  {
   "cell_type": "code",
   "execution_count": 7,
   "id": "899d5fdb-6081-470b-b287-8cf8b8142d0d",
   "metadata": {
    "height": 115
   },
   "outputs": [
    {
     "name": "stdout",
     "output_type": "stream",
     "text": [
      "\u001b[33mCritic\u001b[0m (to Writer):\n",
      "\n",
      "\n",
      "        Write a concise but engaging blogpost about\n",
      "       DeepLearning.AI. Make sure the blogpost is\n",
      "       within 100 words.\n",
      "       \n",
      "\n",
      "--------------------------------------------------------------------------------\n",
      "\u001b[33mWriter\u001b[0m (to Critic):\n",
      "\n",
      "Title: Unraveling the World of Deep Learning with DeepLearning.AI\n",
      "\n",
      "Dive into the realm of artificial intelligence with DeepLearning.AI, a platform revolutionizing education in deep learning. Founded by Andrew Ng, a renowned figure in AI, DeepLearning.AI offers top-notch courses to upskill both beginners and experts in the field. From neural networks to machine learning, this platform covers it all. With interactive assignments and practical insights, learners gain hands-on experience essential for success in the AI industry. Whether you're a tech enthusiast or a professional looking to advance your skills, DeepLearning.AI equips you with the knowledge to thrive in the exciting world of deep learning.\n",
      "\n",
      "--------------------------------------------------------------------------------\n",
      "\u001b[33mCritic\u001b[0m (to Writer):\n",
      "\n",
      "This blogpost offers a clear and engaging overview of DeepLearning.AI, highlighting its founder and key offerings. To improve, consider incorporating specific examples of courses or features that set DeepLearning.AI apart from other platforms. Additionally, add a call to action encouraging readers to explore the platform further or share their experiences. Providing testimonials or success stories from learners who have benefitted from DeepLearning.AI could also enhance the blogpost's credibility and appeal. Consider revising to make the content more dynamic and persuasive for the audience.\n",
      "\n",
      "--------------------------------------------------------------------------------\n",
      "\u001b[33mWriter\u001b[0m (to Critic):\n",
      "\n",
      "Title: Mastering the Future of AI with DeepLearning.AI\n",
      "\n",
      "Embark on an AI journey with DeepLearning.AI, spearheaded by the legendary Andrew Ng, a pioneer in artificial intelligence. Explore cutting-edge courses like \"Neural Networks and Deep Learning\" and \"Machine Learning with Python\" designed to elevate your expertise. What sets DeepLearning.AI apart? Its hands-on approach and real-world projects refine your skills for professional success. Join a community of learners shaping the future of technology. Ready to unlock your potential? Take the leap into the world of deep learning today. Share your transformative experiences with #DeepLearningAI. The future of AI awaits!\n",
      "\n",
      "--------------------------------------------------------------------------------\n"
     ]
    }
   ],
   "source": [
    "res = critic.initiate_chat(\n",
    "    recipient=writer,\n",
    "    message=task,\n",
    "    max_turns=2,\n",
    "    summary_method=\"last_msg\"\n",
    ")"
   ]
  },
  {
   "cell_type": "markdown",
   "id": "e7b76449",
   "metadata": {},
   "source": [
    "## Nested chat"
   ]
  },
  {
   "cell_type": "code",
   "execution_count": 8,
   "id": "401ecf92-63e9-40ff-aeed-1c404352e4ab",
   "metadata": {
    "height": 217
   },
   "outputs": [],
   "source": [
    "SEO_reviewer = autogen.AssistantAgent(\n",
    "    name=\"SEO Reviewer\",\n",
    "    llm_config=llm_config,\n",
    "    system_message=\"You are an SEO reviewer, known for \"\n",
    "        \"your ability to optimize content for search engines, \"\n",
    "        \"ensuring that it ranks well and attracts organic traffic. \" \n",
    "        \"Make sure your suggestion is concise (within 3 bullet points), \"\n",
    "        \"concrete and to the point. \"\n",
    "        \"Begin the review by stating your role.\",\n",
    ")\n"
   ]
  },
  {
   "cell_type": "code",
   "execution_count": 9,
   "id": "f85acb81-7ab9-4c84-b8bb-6fbae3dce848",
   "metadata": {
    "height": 200
   },
   "outputs": [],
   "source": [
    "legal_reviewer = autogen.AssistantAgent(\n",
    "    name=\"Legal Reviewer\",\n",
    "    llm_config=llm_config,\n",
    "    system_message=\"You are a legal reviewer, known for \"\n",
    "        \"your ability to ensure that content is legally compliant \"\n",
    "        \"and free from any potential legal issues. \"\n",
    "        \"Make sure your suggestion is concise (within 3 bullet points), \"\n",
    "        \"concrete and to the point. \"\n",
    "        \"Begin the review by stating your role.\",\n",
    ")"
   ]
  },
  {
   "cell_type": "code",
   "execution_count": 10,
   "id": "d46a177a-8088-4956-8d2b-3e916b8ca5e9",
   "metadata": {
    "height": 200
   },
   "outputs": [],
   "source": [
    "ethics_reviewer = autogen.AssistantAgent(\n",
    "    name=\"Ethics Reviewer\",\n",
    "    llm_config=llm_config,\n",
    "    system_message=\"You are an ethics reviewer, known for \"\n",
    "        \"your ability to ensure that content is ethically sound \"\n",
    "        \"and free from any potential ethical issues. \" \n",
    "        \"Make sure your suggestion is concise (within 3 bullet points), \"\n",
    "        \"concrete and to the point. \"\n",
    "        \"Begin the review by stating your role. \",\n",
    ")"
   ]
  },
  {
   "cell_type": "code",
   "execution_count": 11,
   "id": "a7b2ad6f-8ba6-436a-9459-14ffbe8a32d3",
   "metadata": {
    "height": 132
   },
   "outputs": [],
   "source": [
    "meta_reviewer = autogen.AssistantAgent(\n",
    "    name=\"Meta Reviewer\",\n",
    "    llm_config=llm_config,\n",
    "    system_message=\"You are a meta reviewer, you aggragate and review \"\n",
    "    \"the work of other reviewers and give a final suggestion on the content.\",\n",
    ")"
   ]
  },
  {
   "cell_type": "markdown",
   "id": "913beca1",
   "metadata": {},
   "source": [
    "## Orchestrate the nested chats to solve the task"
   ]
  },
  {
   "cell_type": "code",
   "execution_count": 12,
   "id": "a11a70c7-19ca-4e5a-ad3d-f2b481fb5915",
   "metadata": {
    "height": 557
   },
   "outputs": [],
   "source": [
    "def reflection_message(recipient, messages, sender, config):\n",
    "    return f'''Review the following content. \n",
    "            \\n\\n {recipient.chat_messages_for_summary(sender)[-1]['content']}'''\n",
    "\n",
    "review_chats = [\n",
    "    {\n",
    "     \"recipient\": SEO_reviewer, \n",
    "     \"message\": reflection_message, \n",
    "     \"summary_method\": \"reflection_with_llm\",\n",
    "     \"summary_args\": {\"summary_prompt\" : \n",
    "        \"Return review into as JSON object only:\"\n",
    "        \"{'Reviewer': '', 'Review': ''}. Here Reviewer should be your role\",},\n",
    "     \"max_turns\": 1},\n",
    "    {\n",
    "    \"recipient\": legal_reviewer, \"message\": reflection_message, \n",
    "     \"summary_method\": \"reflection_with_llm\",\n",
    "     \"summary_args\": {\"summary_prompt\" : \n",
    "        \"Return review into as JSON object only:\"\n",
    "        \"{'Reviewer': '', 'Review': ''}.\",},\n",
    "     \"max_turns\": 1},\n",
    "    {\"recipient\": ethics_reviewer, \"message\": reflection_message, \n",
    "     \"summary_method\": \"reflection_with_llm\",\n",
    "     \"summary_args\": {\"summary_prompt\" : \n",
    "        \"Return review into as JSON object only:\"\n",
    "        \"{'reviewer': '', 'review': ''}\",},\n",
    "     \"max_turns\": 1},\n",
    "     {\"recipient\": meta_reviewer, \n",
    "      \"message\": \"Aggregrate feedback from all reviewers and give final suggestions on the writing.\", \n",
    "     \"max_turns\": 1},\n",
    "]\n"
   ]
  },
  {
   "cell_type": "code",
   "execution_count": 13,
   "id": "b3a40b66-5061-460d-ad9d-c0dbcfbba2e9",
   "metadata": {
    "height": 81
   },
   "outputs": [],
   "source": [
    "critic.register_nested_chats(\n",
    "    review_chats,\n",
    "    trigger=writer,\n",
    ")"
   ]
  },
  {
   "cell_type": "markdown",
   "id": "43b8797d",
   "metadata": {},
   "source": [
    "**Note**: You might get a slightly different response than what's shown in the video. Feel free to try different task."
   ]
  },
  {
   "cell_type": "code",
   "execution_count": 14,
   "id": "3b8dcac3-1e72-43b7-9d5a-1be740f6efd5",
   "metadata": {
    "height": 115
   },
   "outputs": [
    {
     "name": "stdout",
     "output_type": "stream",
     "text": [
      "\u001b[33mCritic\u001b[0m (to Writer):\n",
      "\n",
      "\n",
      "        Write a concise but engaging blogpost about\n",
      "       DeepLearning.AI. Make sure the blogpost is\n",
      "       within 100 words.\n",
      "       \n",
      "\n",
      "--------------------------------------------------------------------------------\n",
      "\u001b[33mWriter\u001b[0m (to Critic):\n",
      "\n",
      "Title: Unraveling the World of Deep Learning with DeepLearning.AI\n",
      "\n",
      "Dive into the realm of artificial intelligence with DeepLearning.AI, a platform revolutionizing education in deep learning. Founded by Andrew Ng, a renowned figure in AI, DeepLearning.AI offers top-notch courses to upskill both beginners and experts in the field. From neural networks to machine learning, this platform covers it all. With interactive assignments and practical insights, learners gain hands-on experience essential for success in the AI industry. Whether you're a tech enthusiast or a professional looking to advance your skills, DeepLearning.AI equips you with the knowledge to thrive in the exciting world of deep learning.\n",
      "\n",
      "--------------------------------------------------------------------------------\n",
      "\u001b[34m\n",
      "********************************************************************************\u001b[0m\n",
      "\u001b[34mStarting a new chat....\u001b[0m\n",
      "\u001b[34m\n",
      "********************************************************************************\u001b[0m\n",
      "\u001b[33mCritic\u001b[0m (to SEO Reviewer):\n",
      "\n",
      "Review the following content. \n",
      "            \n",
      "\n",
      " Title: Unraveling the World of Deep Learning with DeepLearning.AI\n",
      "\n",
      "Dive into the realm of artificial intelligence with DeepLearning.AI, a platform revolutionizing education in deep learning. Founded by Andrew Ng, a renowned figure in AI, DeepLearning.AI offers top-notch courses to upskill both beginners and experts in the field. From neural networks to machine learning, this platform covers it all. With interactive assignments and practical insights, learners gain hands-on experience essential for success in the AI industry. Whether you're a tech enthusiast or a professional looking to advance your skills, DeepLearning.AI equips you with the knowledge to thrive in the exciting world of deep learning.\n",
      "\n",
      "--------------------------------------------------------------------------------\n",
      "\u001b[33mSEO Reviewer\u001b[0m (to Critic):\n",
      "\n",
      "As an SEO reviewer:\n",
      "\n",
      "- Incorporate relevant keywords: Consider adding keywords like \"deep learning courses,\" \"Andrew Ng,\" and \"machine learning education\" to improve search visibility.\n",
      "- Enhance meta title and description: Craft a Meta title focusing on high-traffic keywords and a compelling Meta description to drive more clicks from search engine results. \n",
      "- Utilize structured data: Implement structured data markup to provide search engines with more context about the content, potentially leading to rich results in search listings.\n",
      "\n",
      "--------------------------------------------------------------------------------\n",
      "\u001b[34m\n",
      "********************************************************************************\u001b[0m\n",
      "\u001b[34mStarting a new chat....\u001b[0m\n",
      "\u001b[34m\n",
      "********************************************************************************\u001b[0m\n",
      "\u001b[33mCritic\u001b[0m (to Legal Reviewer):\n",
      "\n",
      "Review the following content. \n",
      "            \n",
      "\n",
      " Title: Unraveling the World of Deep Learning with DeepLearning.AI\n",
      "\n",
      "Dive into the realm of artificial intelligence with DeepLearning.AI, a platform revolutionizing education in deep learning. Founded by Andrew Ng, a renowned figure in AI, DeepLearning.AI offers top-notch courses to upskill both beginners and experts in the field. From neural networks to machine learning, this platform covers it all. With interactive assignments and practical insights, learners gain hands-on experience essential for success in the AI industry. Whether you're a tech enthusiast or a professional looking to advance your skills, DeepLearning.AI equips you with the knowledge to thrive in the exciting world of deep learning.\n",
      "Context: \n",
      "{'Reviewer': 'SEO Specialist', 'Review': 'Consider adding keywords like \"deep learning courses,\" \"Andrew Ng,\" and \"machine learning education\" to improve search visibility. Craft a Meta title focusing on high-traffic keywords and a compelling Meta description to drive more clicks from search engine results. Implement structured data markup to provide search engines with more context about the content, potentially leading to rich results in search listings.'}\n",
      "\n",
      "--------------------------------------------------------------------------------\n",
      "\u001b[33mLegal Reviewer\u001b[0m (to Critic):\n",
      "\n",
      "As a Legal Reviewer, here are my suggestions for the provided content:\n",
      "\n",
      "- Ensure compliance with intellectual property laws by verifying that there are no unauthorized uses of trademarks or copyrighted materials belonging to third parties within the content.\n",
      "- Consider adding a disclaimer regarding the educational nature of the platform to manage user expectations and liability issues.\n",
      "- Review the claims made about the platform's offerings to ensure they are accurate and not misleading to potential users.\n",
      "\n",
      "--------------------------------------------------------------------------------\n",
      "\u001b[34m\n",
      "********************************************************************************\u001b[0m\n",
      "\u001b[34mStarting a new chat....\u001b[0m\n",
      "\u001b[34m\n",
      "********************************************************************************\u001b[0m\n",
      "\u001b[33mCritic\u001b[0m (to Ethics Reviewer):\n",
      "\n",
      "Review the following content. \n",
      "            \n",
      "\n",
      " Title: Unraveling the World of Deep Learning with DeepLearning.AI\n",
      "\n",
      "Dive into the realm of artificial intelligence with DeepLearning.AI, a platform revolutionizing education in deep learning. Founded by Andrew Ng, a renowned figure in AI, DeepLearning.AI offers top-notch courses to upskill both beginners and experts in the field. From neural networks to machine learning, this platform covers it all. With interactive assignments and practical insights, learners gain hands-on experience essential for success in the AI industry. Whether you're a tech enthusiast or a professional looking to advance your skills, DeepLearning.AI equips you with the knowledge to thrive in the exciting world of deep learning.\n",
      "Context: \n",
      "{'Reviewer': 'SEO Specialist', 'Review': 'Consider adding keywords like \"deep learning courses,\" \"Andrew Ng,\" and \"machine learning education\" to improve search visibility. Craft a Meta title focusing on high-traffic keywords and a compelling Meta description to drive more clicks from search engine results. Implement structured data markup to provide search engines with more context about the content, potentially leading to rich results in search listings.'}\n",
      "{'Reviewer': 'Legal Reviewer', 'Review': 'Ensure compliance with intellectual property laws by verifying that there are no unauthorized uses of trademarks or copyrighted materials belonging to third parties within the content. Consider adding a disclaimer regarding the educational nature of the platform to manage user expectations and liability issues. Review the claims made about the platform's offerings to ensure they are accurate and not misleading to potential users.'}\n",
      "\n",
      "--------------------------------------------------------------------------------\n",
      "\u001b[33mEthics Reviewer\u001b[0m (to Critic):\n",
      "\n",
      "As an Ethics Reviewer:\n",
      "\n",
      "1. Ensure transparency by disclosing any potential conflicts of interest, such as any affiliations with DeepLearning.AI or Andrew Ng, to maintain impartiality and credibility in the content.\n",
      "2. Verify the accuracy of claims made about DeepLearning.AI's courses, ensuring they are supported by evidence and not exaggerated to mislead learners.\n",
      "3. Prioritize inclusivity by considering the accessibility of the courses to a diverse range of learners, including those with disabilities or from underrepresented backgrounds.\n",
      "\n",
      "--------------------------------------------------------------------------------\n",
      "\u001b[34m\n",
      "********************************************************************************\u001b[0m\n",
      "\u001b[34mStarting a new chat....\u001b[0m\n",
      "\u001b[34m\n",
      "********************************************************************************\u001b[0m\n",
      "\u001b[33mCritic\u001b[0m (to Meta Reviewer):\n",
      "\n",
      "Aggregrate feedback from all reviewers and give final suggestions on the writing.\n",
      "Context: \n",
      "{'Reviewer': 'SEO Specialist', 'Review': 'Consider adding keywords like \"deep learning courses,\" \"Andrew Ng,\" and \"machine learning education\" to improve search visibility. Craft a Meta title focusing on high-traffic keywords and a compelling Meta description to drive more clicks from search engine results. Implement structured data markup to provide search engines with more context about the content, potentially leading to rich results in search listings.'}\n",
      "{'Reviewer': 'Legal Reviewer', 'Review': 'Ensure compliance with intellectual property laws by verifying that there are no unauthorized uses of trademarks or copyrighted materials belonging to third parties within the content. Consider adding a disclaimer regarding the educational nature of the platform to manage user expectations and liability issues. Review the claims made about the platform's offerings to ensure they are accurate and not misleading to potential users.'}\n",
      "{'reviewer': 'Ethics Reviewer', 'review': '1. Ensure transparency by disclosing any potential conflicts of interest, such as any affiliations with DeepLearning.AI or Andrew Ng, to maintain impartiality and credibility in the content. 2. Verify the accuracy of claims made about DeepLearning.AI's courses, ensuring they are supported by evidence and not exaggerated to mislead learners. 3. Prioritize inclusivity by considering the accessibility of the courses to a diverse range of learners, including those with disabilities or from underrepresented backgrounds.'}\n"
     ]
    },
    {
     "name": "stdout",
     "output_type": "stream",
     "text": [
      "\n",
      "--------------------------------------------------------------------------------\n",
      "\u001b[33mMeta Reviewer\u001b[0m (to Critic):\n",
      "\n",
      "Aggregated Feedback:\n",
      "From the SEO Specialist: Focus on incorporating relevant keywords, optimizing meta titles and descriptions, and implementing structured data markup to improve search visibility.\n",
      "From the Legal Reviewer: Ensure compliance with intellectual property laws, include a disclaimer about educational purposes, and review claims made to avoid misleading users.\n",
      "From the Ethics Reviewer: Disclose potential conflicts of interest, verify the accuracy of claims made, and prioritize inclusivity in course accessibility.\n",
      "\n",
      "Final Suggestions:\n",
      "1. Implement the SEO Specialist's recommendations by adding relevant keywords, optimizing meta tags, and utilizing structured data markup for better search visibility.\n",
      "2. Address the Legal Reviewer's concerns by verifying intellectual property compliance, including a disclaimer, and ensuring claims about offerings are accurate.\n",
      "3. Follow the Ethics Reviewer's advice by disclosing any conflicts of interest, verifying the accuracy of claims, and focusing on inclusivity in course accessibility.\n",
      "\n",
      "In conclusion, by incorporating the suggestions provided by the reviewers, such as improving search visibility, ensuring legal compliance, and prioritizing ethics and inclusivity, the content can enhance its overall quality, credibility, and user experience.\n",
      "\n",
      "--------------------------------------------------------------------------------\n",
      "\u001b[33mCritic\u001b[0m (to Writer):\n",
      "\n",
      "Aggregated Feedback:\n",
      "From the SEO Specialist: Focus on incorporating relevant keywords, optimizing meta titles and descriptions, and implementing structured data markup to improve search visibility.\n",
      "From the Legal Reviewer: Ensure compliance with intellectual property laws, include a disclaimer about educational purposes, and review claims made to avoid misleading users.\n",
      "From the Ethics Reviewer: Disclose potential conflicts of interest, verify the accuracy of claims made, and prioritize inclusivity in course accessibility.\n",
      "\n",
      "Final Suggestions:\n",
      "1. Implement the SEO Specialist's recommendations by adding relevant keywords, optimizing meta tags, and utilizing structured data markup for better search visibility.\n",
      "2. Address the Legal Reviewer's concerns by verifying intellectual property compliance, including a disclaimer, and ensuring claims about offerings are accurate.\n",
      "3. Follow the Ethics Reviewer's advice by disclosing any conflicts of interest, verifying the accuracy of claims, and focusing on inclusivity in course accessibility.\n",
      "\n",
      "In conclusion, by incorporating the suggestions provided by the reviewers, such as improving search visibility, ensuring legal compliance, and prioritizing ethics and inclusivity, the content can enhance its overall quality, credibility, and user experience.\n",
      "\n",
      "--------------------------------------------------------------------------------\n",
      "\u001b[33mWriter\u001b[0m (to Critic):\n",
      "\n",
      "Title: Navigating Deep Learning Terrain with DeepLearning.AI\n",
      "\n",
      "Embark on a transformative journey through DeepLearning.AI, a pioneering hub reshaping deep learning education. Spearheaded by AI luminary Andrew Ng, this platform offers an array of courses catering to all proficiency levels. From neural networks to advanced machine learning, DeepLearning.AI provides essential hands-on experience through interactive tasks and real-world insights. Whether you're stepping into tech or a seasoned pro honing your skills, DeepLearning.AI equips you to excel in the dynamic realm of AI. Stay ahead in artificial intelligence with the knowledge and expertise gained from DeepLearning.AI.\n",
      "\n",
      "--------------------------------------------------------------------------------\n"
     ]
    }
   ],
   "source": [
    "res = critic.initiate_chat(\n",
    "    recipient=writer,\n",
    "    message=task,\n",
    "    max_turns=2,\n",
    "    summary_method=\"last_msg\"\n",
    ")"
   ]
  },
  {
   "cell_type": "markdown",
   "id": "c5c833b0",
   "metadata": {},
   "source": [
    "## Get the summary"
   ]
  },
  {
   "cell_type": "code",
   "execution_count": 15,
   "id": "68ef82ed-f102-4964-b7be-60e2f258a39b",
   "metadata": {
    "height": 30
   },
   "outputs": [
    {
     "name": "stdout",
     "output_type": "stream",
     "text": [
      "Title: Navigating Deep Learning Terrain with DeepLearning.AI\n",
      "\n",
      "Embark on a transformative journey through DeepLearning.AI, a pioneering hub reshaping deep learning education. Spearheaded by AI luminary Andrew Ng, this platform offers an array of courses catering to all proficiency levels. From neural networks to advanced machine learning, DeepLearning.AI provides essential hands-on experience through interactive tasks and real-world insights. Whether you're stepping into tech or a seasoned pro honing your skills, DeepLearning.AI equips you to excel in the dynamic realm of AI. Stay ahead in artificial intelligence with the knowledge and expertise gained from DeepLearning.AI.\n"
     ]
    }
   ],
   "source": [
    "print(res.summary)"
   ]
  },
  {
   "cell_type": "code",
   "execution_count": null,
   "id": "f264c258",
   "metadata": {
    "height": 30
   },
   "outputs": [],
   "source": []
  }
 ],
 "metadata": {
  "kernelspec": {
   "display_name": "Python 3 (ipykernel)",
   "language": "python",
   "name": "python3"
  },
  "language_info": {
   "codemirror_mode": {
    "name": "ipython",
    "version": 3
   },
   "file_extension": ".py",
   "mimetype": "text/x-python",
   "name": "python",
   "nbconvert_exporter": "python",
   "pygments_lexer": "ipython3",
   "version": "3.11.9"
  }
 },
 "nbformat": 4,
 "nbformat_minor": 5
}
